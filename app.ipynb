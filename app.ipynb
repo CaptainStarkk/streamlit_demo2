{
 "cells": [
  {
   "cell_type": "code",
   "execution_count": 1,
   "id": "93170c2d",
   "metadata": {
    "scrolled": true
   },
   "outputs": [],
   "source": [
    "import os\n",
    "os.environ['NUMEXPR_MAX_THREADS'] = '16'"
   ]
  },
  {
   "cell_type": "code",
   "execution_count": 2,
   "id": "e937c771",
   "metadata": {},
   "outputs": [],
   "source": [
    "import streamlit as st"
   ]
  },
  {
   "cell_type": "code",
   "execution_count": 3,
   "id": "d87de1bd",
   "metadata": {},
   "outputs": [],
   "source": [
    "import random as rd"
   ]
  },
  {
   "cell_type": "code",
   "execution_count": null,
   "id": "6ee2ba95",
   "metadata": {},
   "outputs": [],
   "source": [
    "st.title('오늘 저녁은 무엇을 먹을까?!')\n",
    "\n",
    "\n",
    "    \n",
    "num_inputs = st.number_input(\"☑후보 개수\", min_value=1, max_value=10, value=1, step=1)\n",
    "\n",
    "inputs = []\n",
    "for i in range(num_inputs):\n",
    "    input_value = st.text_input(f\"✅후보 {i+1}\", key=f\"input_{i}\")\n",
    "    inputs.append(input_value)\n",
    "\n",
    "if st.button(\"🍴🍴이중에 골라보자🍴🍴\"):\n",
    "    st.write(f\"👨‍🍳저녁 후보들: {inputs}\")\n",
    "\n",
    "\n",
    "        \n",
    "button = st.button('🎯🎯저녁 메뉴 고르기🎯🎯')\n",
    "\n",
    "if button:\n",
    "    k = rd.randint(0, num_inputs)\n",
    "    st.success(inputs[k])"
   ]
  },
  {
   "cell_type": "code",
   "execution_count": null,
   "id": "2125b507",
   "metadata": {},
   "outputs": [],
   "source": []
  }
 ],
 "metadata": {
  "kernelspec": {
   "display_name": "Python 3 (ipykernel)",
   "language": "python",
   "name": "python3"
  },
  "language_info": {
   "codemirror_mode": {
    "name": "ipython",
    "version": 3
   },
   "file_extension": ".py",
   "mimetype": "text/x-python",
   "name": "python",
   "nbconvert_exporter": "python",
   "pygments_lexer": "ipython3",
   "version": "3.9.7"
  }
 },
 "nbformat": 4,
 "nbformat_minor": 5
}
